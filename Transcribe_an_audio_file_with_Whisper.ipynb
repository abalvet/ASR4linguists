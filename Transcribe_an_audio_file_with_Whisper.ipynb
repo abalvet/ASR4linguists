{
  "cells": [
    {
      "cell_type": "markdown",
      "metadata": {
        "id": "view-in-github",
        "colab_type": "text"
      },
      "source": [
        "<a href=\"https://colab.research.google.com/github/abalvet/ASR4linguists/blob/main/Transcribe_an_audio_file_with_Whisper.ipynb\" target=\"_parent\"><img src=\"https://colab.research.google.com/assets/colab-badge.svg\" alt=\"Open In Colab\"/></a>"
      ]
    },
    {
      "cell_type": "markdown",
      "source": [
        "\n",
        "This notebook is based on  https://www.css.cnrs.fr/whisper-for-transcribing-social-science-interviews/\n"
      ],
      "metadata": {
        "id": "kuFe4ASZtc3w"
      }
    },
    {
      "cell_type": "markdown",
      "metadata": {
        "id": "x9uiuWkQVLWa"
      },
      "source": [
        "_Colab is easy to use and easy to learn. No need to master Python, you just have to click on the \"play\" button in front of the code sections, and maybe adjust some parameters._\n",
        "\n",
        "Author: Yacine Chitour\n",
        "\n",
        "For further information:  https://www.css.cnrs.fr/whisper-for-transcribing-social-science-interviews/"
      ]
    },
    {
      "cell_type": "markdown",
      "metadata": {
        "id": "6Nt-jxq6C2Z1"
      },
      "source": [
        "### Enable a GPU to speed up calculations\n",
        "\n",
        "\n",
        "We are going to use a GPU (*Graphics Processing Unit*) in order to speed up the transcription of the audios.\n",
        "\n",
        "* To do this, select the \"Edit\" menu in Colab, then click \"Notebook settings\".\n",
        "* Then select the \"GPU\" value for \"Hardware Accelerator\" drop-down list. The following two lines of code allow you to check that the command has worked. They show the type of GPU used."
      ]
    },
    {
      "cell_type": "code",
      "execution_count": 1,
      "metadata": {
        "id": "FGPG0oTxD7k-",
        "colab": {
          "base_uri": "https://localhost:8080/",
          "height": 36
        },
        "outputId": "51fabd74-28bd-413b-ff2f-357681fc3d6e"
      },
      "outputs": [
        {
          "output_type": "execute_result",
          "data": {
            "text/plain": [
              "'Tesla T4'"
            ],
            "application/vnd.google.colaboratory.intrinsic+json": {
              "type": "string"
            }
          },
          "metadata": {},
          "execution_count": 1
        }
      ],
      "source": [
        "from torch import cuda\n",
        "cuda.get_device_name(0)\n"
      ]
    },
    {
      "cell_type": "markdown",
      "metadata": {
        "id": "PRV7iEqeEXJ5"
      },
      "source": [
        "### Load Whisper\n",
        "\n",
        "We first run the following line to install the Whisper library, from the OpenAI Github repository:"
      ]
    },
    {
      "cell_type": "code",
      "execution_count": null,
      "metadata": {
        "id": "ga9kUdVhoq0s"
      },
      "outputs": [],
      "source": [
        "!pip install git+https://github.com/openai/whisper.git"
      ]
    },
    {
      "cell_type": "markdown",
      "metadata": {
        "id": "EnyL-DuWEbig"
      },
      "source": [
        "### Load FFmpeg\n",
        "\n",
        "We then install the free library FFmpeg, which we use to handle audio files:"
      ]
    },
    {
      "cell_type": "code",
      "execution_count": null,
      "metadata": {
        "id": "w-eMaDnHoq3X"
      },
      "outputs": [],
      "source": [
        "!sudo apt update && sudo apt install ffmpeg"
      ]
    },
    {
      "cell_type": "markdown",
      "metadata": {
        "id": "6hUAk7zuWosx"
      },
      "source": [
        "### Transcribe your audio (**⚠ warning : GDRP**)\n",
        "\n",
        "After loading your file in the left \"Files\" tab, you can start the transcription. The file can be in several formats (m4a, mp3, mp4, mpeg, mpga, wav, webm) :\n",
        "\n",
        "\n",
        "* There are several models, with different transcription speeds depending on the size of the underlying model. The lightest ones (`tiny` and `base`) are clearly not good enough for French, but they do the job in English.\n",
        "*     Most of the time, the `medium` transcription model is more than sufficient, even with background noise.\n",
        "*   If you find the beginning of the transcription disappointing - it is displayed progressively in the output window - you can try to use a larger, and therefore more accurate, model, such as the `large` model, or `large-v2`. However, transcription time is a bit longer (about twice as long as the medium model).\n",
        "\n",
        "If you have the GPU installed, using the `large-v2` model is a good option, fast and efficient.\n",
        "\n",
        "The choice of the model is made in the parameters after \"`--model`\".\n"
      ]
    },
    {
      "cell_type": "code",
      "execution_count": null,
      "metadata": {
        "id": "ZagswBrelIN6"
      },
      "outputs": [],
      "source": [
        "!whisper \"/content/enrgistrement chez Apple Store.wav\" --model large-v2 # Remember to change the name and format of the file"
      ]
    },
    {
      "cell_type": "markdown",
      "metadata": {
        "id": "b4t0aKIFU-zX"
      },
      "source": [
        "### Getting the output text\n",
        "\n",
        "\n",
        "Just download the `.txt` file with the same name as the audio, which is automatically loaded in the \"Files\" tab on the left of the notebook."
      ]
    },
    {
      "cell_type": "markdown",
      "source": [
        "### Additional feature: translate audio from one language to another\n",
        "\n",
        "Whisper is a transcription tool, but also a translation tool [from and to a large number of languages](https://github.com/openai/whisper) (Spanish, English, Arabic, Ukrainian, Swedish, Hindi, _etc._). Just add the parameter `--language fr` for example to translate and transcribe an audio in English into a text in French.  \n",
        "\n",
        "\n"
      ],
      "metadata": {
        "id": "mGHmtG3mdkob"
      }
    },
    {
      "cell_type": "code",
      "source": [
        "!whisper \"audio.mp3\" --model medium --language fr"
      ],
      "metadata": {
        "id": "5ruROiGGXiWu"
      },
      "execution_count": null,
      "outputs": []
    },
    {
      "cell_type": "code",
      "source": [
        "!pip install faster-whisper"
      ],
      "metadata": {
        "id": "fXWSgBcMruP-"
      },
      "execution_count": null,
      "outputs": []
    },
    {
      "cell_type": "code",
      "source": [
        "!pip install -U whisper-ctranslate2"
      ],
      "metadata": {
        "id": "C-5CJ4sIsHX-"
      },
      "execution_count": null,
      "outputs": []
    },
    {
      "cell_type": "code",
      "source": [
        "!whisper-ctranslate2 /content/enregistrement-chez-Apple-Store.wav --model large-v2 --language French --task transcribe --initial_prompt \"ben c'ét- c'était pas mal  quoi  euh  eeeeet  bah  bon  donc  en fait  beh  mmmh  pff  je sais pas  je dis ça je dis rien\"  --word_timestamps True -o repertoire_destination"
      ],
      "metadata": {
        "id": "lv24n7jMtni1"
      },
      "execution_count": null,
      "outputs": []
    },
    {
      "cell_type": "code",
      "source": [
        "!whisper-ctranslate2 /content/enregistrement-chez-Apple-Store.wav --model large-v3 --language French --task transcribe --initial_prompt \"ben c'ét- c'était pas mal  quoi  euh  eeeeet  bah  bon  donc  en fait  beh  mmmh  pff  je sais pas\"  --word_timestamps True -o medium"
      ],
      "metadata": {
        "id": "IOghsb5hv6Jv"
      },
      "execution_count": null,
      "outputs": []
    },
    {
      "cell_type": "code",
      "source": [
        "!whisper-ctranslate2 /content/enregistrement-chez-Apple-Store.wav --model large-v3 --language French --task transcribe --initial_prompt \"ben euh  eeeeet  bah  bon  donc  en fait  beh  mmmh  pff\"  --word_timestamps True -o large-v3b"
      ],
      "metadata": {
        "colab": {
          "base_uri": "https://localhost:8080/"
        },
        "id": "7HNU4qhIy7t1",
        "outputId": "cca0a039-3a4e-456c-9d13-405ef256e3db"
      },
      "execution_count": 12,
      "outputs": [
        {
          "output_type": "stream",
          "name": "stdout",
          "text": [
            "Detected language 'French' with probability 1.000000\n",
            "[00:06.420 --> 00:07.620]  à\n",
            "[00:07.620 --> 00:16.940]  on s'est fait\n",
            "[00:20.180 --> 00:21.380]  et\n",
            "[00:21.380 --> 00:21.960]  et\n",
            "[00:21.960 --> 00:22.300]  et\n",
            "[00:22.300 --> 00:22.400]  et\n",
            "[00:22.400 --> 00:22.460]  et\n",
            "[00:22.460 --> 00:22.560]  et\n",
            "[00:22.560 --> 00:24.360]  et\n",
            "[00:31.360 --> 00:32.760]  d\n",
            "[00:34.960 --> 00:36.360]  d\n",
            "[00:36.360 --> 00:37.420]  ce\n",
            "[00:37.420 --> 00:38.000]  or\n",
            "[00:38.000 --> 00:38.020]  s\n",
            "[00:44.260 --> 00:45.660]  hu\n",
            "[00:52.900 --> 00:54.300]  tu\n",
            "[00:54.300 --> 00:54.320]  tu\n",
            "[00:54.320 --> 00:54.340]  tu\n",
            "[01:21.720 --> 01:23.120]  Merci.\n",
            "[01:30.980 --> 01:32.720]  Je ne sais pas.\n",
            "[02:08.860 --> 02:09.220]  Bonsoir.\n",
            "[02:09.440 --> 02:09.800]  Bonsoir.\n",
            "[02:09.880 --> 02:10.140]  Bienvenue.\n",
            "[02:11.240 --> 02:16.400]  En fait, je dois prendre un cadeau pour ma copine en fin de Valentin et je ne sais pas\n",
            "[02:16.400 --> 02:17.040]  quoi prendre en tête.\n",
            "[02:17.740 --> 02:20.860]  Un Iphone ou un Ipod ou un Ipad.\n",
            "[02:21.240 --> 02:21.920]  Elle a quoi comme télé ?\n",
            "[02:21.920 --> 02:24.020]  Fais quoi dans la vie de votre copine.\n",
            "[02:25.400 --> 02:26.720]  Elle travaille avec la mairie.\n",
            "[02:27.220 --> 02:28.580]  Elle fait du sport ?\n",
            "[02:28.580 --> 02:28.720]  Oui.\n",
            "[02:29.180 --> 02:31.200]  Elle a quoi comme téléphone actuellement ?\n",
            "[02:31.200 --> 02:32.920]  Un Iphone 5.\n",
            "[02:33.420 --> 02:34.900]  Non, elle a un Iphone 6S.\n",
            "[02:35.220 --> 02:36.180]  Je parle de Manon.\n",
            "[02:37.000 --> 02:38.400]  Laquelle Manon ?\n",
            "[02:42.400 --> 02:43.860]  Je parle de Manon.\n",
            "[02:44.380 --> 02:45.700]  Tu parles de Manon ?\n",
            "[02:45.700 --> 02:46.220]  Oui, d'accord.\n",
            "[02:46.780 --> 02:47.900]  Parce que je suis Ginette.\n",
            "[02:48.300 --> 02:52.440]  En fait, je pensais plus pour un PC mais je ne sais pas.\n",
            "[02:52.880 --> 02:54.220]  Est-ce qu'elle était super sage ?\n",
            "[02:55.700 --> 02:56.660]  Oui, toujours en fait.\n",
            "[02:56.760 --> 02:57.080]  Toujours sage.\n",
            "[02:57.420 --> 03:03.760]  Après, si elle fait beaucoup de photos, beaucoup de vidéos, c'est sûr qu'un Iphone 7 ou...\n",
            "[03:03.760 --> 03:05.200]  Vu qu'elle a déjà un Iphone 6S.\n",
            "[03:05.520 --> 03:07.680]  Elle a déjà des très bonnes photos avec l'Iphone 6S.\n",
            "[03:08.060 --> 03:09.380]  Elle a déjà un Ipad ou pas ?\n",
            "[03:09.380 --> 03:09.980]  Non.\n",
            "[03:10.660 --> 03:13.580]  C'est peut-être sympa l'Ipad mini pour se déplacer si elle fait beaucoup de...\n",
            "[03:13.580 --> 03:14.660]  On pourrait voir.\n",
            "[03:14.780 --> 03:15.120]  Oui, bien sûr.\n",
            "[03:15.200 --> 03:15.520]  C'est bon.\n",
            "[03:15.580 --> 03:15.660]  C'est bon.\n",
            "[03:15.660 --> 03:15.820]  On pourrait le mettre dessus au moins.\n",
            "[03:26.640 --> 03:27.320]  L'Ipad mini,\n",
            "[03:27.400 --> 03:27.580]  c'est cela.\n",
            "[03:28.120 --> 03:29.460]  L'avantage, ils sont petits.\n",
            "[03:29.640 --> 03:32.340]  C'est si elle veut un bel Ipad Mini,\n",
            "[03:32.520 --> 03:35.060]  il y en a deux différents.\n",
            "[03:37.040 --> 03:37.400]  Hop.\n",
            "[03:38.040 --> 03:39.600]  Il y a l'Ipad mini 4\n",
            "[03:39.600 --> 03:40.640]  et l'Ipad mini 2\n",
            "[03:41.220 --> 03:44.280]  et la différence entre les deux va venir par rapport à la qualité de l'appareil photo.\n",
            "[03:44.520 --> 03:45.640]  Parce que là, on passe...\n",
            "[03:47.720 --> 03:49.720]  de 5 à 8 mégapixels\n",
            "[03:49.720 --> 03:50.180]  d'accord\n",
            "[03:50.180 --> 03:52.600]  un meilleur processeur\n",
            "[03:52.600 --> 03:54.620]  un moteur plus rapide et plus performant\n",
            "[03:54.620 --> 03:56.660]  donc si elle veut se faire plaisir à faire des belles photos\n",
            "[03:56.660 --> 03:57.820]  regarder des films ou autre\n",
            "[03:57.820 --> 04:00.760]  c'est l'iPad mini 4\n",
            "[04:00.760 --> 04:02.660]  oui tout à fait\n",
            "[04:02.660 --> 04:04.220]  et en terme de tarif\n",
            "[04:04.220 --> 04:06.340]  ils existent en 32\n",
            "[04:06.340 --> 04:07.780]  en 128Go\n",
            "[04:07.780 --> 04:10.160]  en 539 ou 549€\n",
            "[04:10.160 --> 04:12.060]  et là quand ça aura l'iPhone, l'iPad\n",
            "[04:12.060 --> 04:13.740]  elle pourra faire tout ce qu'elle veut\n",
            "[04:13.740 --> 04:15.360]  et par rapport à ça\n",
            "[04:15.360 --> 04:17.440]  il y a le système d'iTunes\n",
            "[04:17.440 --> 04:20.500]  elle peut avoir les mêmes données\n",
            "[04:20.500 --> 04:21.400]  qu'elle a sur le téléphone\n",
            "[04:21.400 --> 04:22.740]  sur son iPod\n",
            "[04:22.740 --> 04:26.160]  même grâce à iCloud\n",
            "[04:26.720 --> 04:27.600]  iCloud c'est quand même le sacre\n",
            "[04:27.600 --> 04:28.780]  il y a les deux\n",
            "[04:31.400 --> 04:31.840]  iCloud\n",
            "[04:32.660 --> 04:34.160]  ça se fait automatiquement en Wifi\n",
            "[04:34.160 --> 04:36.100]  et iTunes c'est vous qui le branchez\n",
            "[04:36.100 --> 04:36.960]  sur votre ordinateur\n",
            "[04:37.840 --> 04:39.040]  et à part le\n",
            "[04:39.040 --> 04:41.560]  il y a un grand iPad ou pas ?\n",
            "[04:41.560 --> 04:42.560]  après il y a le grand iPad\n",
            "[04:42.560 --> 04:43.620]  il y a la batterie\n",
            "[04:43.620 --> 04:43.720]  il y a la batterie\n",
            "[04:43.740 --> 04:44.420]  il y a l'iPad Pro\n",
            "[04:44.420 --> 04:45.060]  ou l'iPad Air 2\n",
            "[04:45.060 --> 04:45.960]  comme ils sont de cette taille là\n",
            "[04:45.960 --> 04:47.780]  mais pour le transport c'est moins facile\n",
            "[04:47.780 --> 04:48.920]  et c'est vrai que\n",
            "[04:48.920 --> 04:51.320]  c'est la même qualité que l'iPad mini 4\n",
            "[04:51.320 --> 04:52.400]  sauf que c'est sur une grande taille\n",
            "[04:52.400 --> 04:53.960]  c'est un peu grand celui-là\n",
            "[04:53.960 --> 04:54.460]  comment ?\n",
            "[04:54.460 --> 04:55.480]  c'est un peu grand celui-là\n",
            "[04:55.480 --> 04:55.960]  c'est un plus grand\n",
            "[04:55.960 --> 04:56.780]  moi je préfère le mini\n",
            "[04:56.780 --> 04:58.400]  vous voyez là\n",
            "[04:58.400 --> 05:00.180]  quand on compare les deux iPads\n",
            "[05:00.980 --> 05:02.700]  aussi bien l'iPad Pro\n",
            "[05:03.840 --> 05:05.540]  que l'iPad Air 2\n",
            "[05:06.300 --> 05:07.100]  vous voyez\n",
            "[05:07.100 --> 05:09.040]  au niveau de l'appareil photo\n",
            "[05:09.040 --> 05:09.780]  hop là\n",
            "[05:09.780 --> 05:13.640]  on passe de 8Mbps à 12Mbps\n",
            "[05:13.640 --> 05:13.720]  c'est pas mal\n",
            "[05:13.720 --> 05:14.320]  c'est plus spécial sur l'iPad Pro\n",
            "[05:15.340 --> 05:16.640]  c'est encore au-dessus\n",
            "[05:16.640 --> 05:17.960]  par rapport au processeur\n",
            "[05:17.960 --> 05:18.340]  c'est le même\n",
            "[05:18.340 --> 05:20.240]  c'est encore plus puissant le processeur\n",
            "[05:20.760 --> 05:21.880]  c'est encore plus puissant le processeur\n",
            "[05:21.880 --> 05:23.440]  ça c'est le dernier iPad de chez Apple\n",
            "[05:23.440 --> 05:24.720]  c'est plus rapide et plus performant\n",
            "[05:24.720 --> 05:25.640]  d'accord\n",
            "[05:27.880 --> 05:29.180]  c'est vraiment un testage\n",
            "[05:29.180 --> 05:30.020]  ça c'est peut-être un beau cadeau\n",
            "[05:30.020 --> 05:32.380]  et par bon prix en fait\n",
            "[05:32.380 --> 05:33.740]  mais là en terme de tarif\n",
            "[05:33.740 --> 05:34.940]  on est sur du\n",
            "[05:39.100 --> 05:40.420]  689 euros en 32 Go\n",
            "[05:40.420 --> 05:41.060]  sur Wifi\n",
            "[05:41.060 --> 05:41.560]  c'est assez\n",
            "[05:41.560 --> 05:43.680]  est-ce qu'elle fait beaucoup de photos ou quoi ?\n",
            "[05:43.680 --> 05:43.700]  c'est assez\n",
            "[05:45.500 --> 05:46.320]  ouais quand même\n",
            "[05:46.320 --> 05:47.380]  tu dois être tranquille\n",
            "[05:47.380 --> 05:48.000]  si tu veux d'avoir un 128\n",
            "[05:48.000 --> 05:49.300]  un 128 ?\n",
            "[05:49.300 --> 05:49.520]  ouais\n",
            "[05:49.520 --> 05:50.180]  parce que 32 Go\n",
            "[05:50.180 --> 05:51.340]  dès que tu arrives à saturation\n",
            "[05:51.340 --> 05:52.160]  ça fait vraiment beaucoup de photos\n",
            "[05:52.160 --> 05:52.740]  si on nous dit\n",
            "[05:52.740 --> 05:54.700]  qu'on peut avoir une semaine\n",
            "[05:54.700 --> 05:55.100]  par exemple\n",
            "[05:55.100 --> 05:55.700]  vous allez avoir\n",
            "[05:55.700 --> 05:57.180]  donc c'est pas qu'on va arriver à tout tester\n",
            "[05:57.180 --> 05:58.960]  alors si ça correspondait à celle-là\n",
            "[05:58.960 --> 05:59.900]  c'est\n",
            "[05:59.900 --> 05:59.920]  c'est\n",
            "[05:59.920 --> 06:00.220]  c'est\n",
            "[06:00.220 --> 06:01.620]  avec l'iPad\n",
            "[06:01.620 --> 06:02.580]  et c'est pas 3G\n",
            "[06:02.580 --> 06:03.880]  alors on peut avoir\n",
            "[06:03.880 --> 06:04.640]  la 3G\n",
            "[06:04.640 --> 06:05.360]  donc ce sera le modèle\n",
            "[06:05.360 --> 06:06.700]  Wifi plus cellulaire\n",
            "[06:06.700 --> 06:08.480]  et là il sera à 949 euros\n",
            "[06:08.480 --> 06:08.820]  ah ouais\n",
            "[06:08.820 --> 06:10.200]  c'est un salaire en fait\n",
            "[06:10.200 --> 06:10.900]  ouais voilà\n",
            "[06:10.900 --> 06:11.520]  tout à fait\n",
            "[06:11.520 --> 06:11.860]  presque\n",
            "[06:11.860 --> 06:12.480]  absolument\n",
            "[06:12.480 --> 06:13.940]  d'accord\n",
            "[06:16.520 --> 06:17.960]  en fait il y a un iPod mini\n",
            "[06:17.960 --> 06:18.840]  et un iPod normal\n",
            "[06:18.840 --> 06:19.240]  oui\n",
            "[06:19.240 --> 06:20.520]  c'est celui-là le pro en fait ?\n",
            "[06:20.520 --> 06:20.780]  oui\n",
            "[06:20.780 --> 06:21.480]  d'accord\n",
            "[06:22.760 --> 06:24.120]  et le R2 ?\n",
            "[06:24.120 --> 06:24.720]  bah c'est\n",
            "[06:25.120 --> 06:25.440]  esthétiquement\n",
            "[06:25.440 --> 06:25.920]  ça va être le\n",
            "[06:25.920 --> 06:27.140]  alors ça c'est l'iPad R2\n",
            "[06:27.140 --> 06:27.340]  pardon\n",
            "[06:27.340 --> 06:28.080]  et ça c'est l'iPad\n",
            "[06:28.080 --> 06:29.000]  ah d'accord\n",
            "[06:29.000 --> 06:30.540]  où il n'y a pas forcément de différence\n",
            "[06:31.140 --> 06:32.400]  il n'y a pas de grosse différence\n",
            "[06:32.400 --> 06:33.300]  c'est plutôt à l'arrière\n",
            "[06:33.300 --> 06:33.920]  qu'on verra la différence\n",
            "[06:34.440 --> 06:35.920]  mais même sur le mini\n",
            "[06:35.920 --> 06:36.760]  on a la possibilité\n",
            "[06:36.760 --> 06:37.760]  d'avoir un iPad clavier\n",
            "[06:37.760 --> 06:37.920]  non ?\n",
            "[06:37.920 --> 06:38.200]  bien sûr\n",
            "[06:39.060 --> 06:40.320]  si il n'est pas en Apple Store\n",
            "[06:40.320 --> 06:41.240]  ça peut être vendu\n",
            "[06:41.240 --> 06:42.020]  chez les partenaires\n",
            "[06:42.020 --> 06:42.420]  comme l'a fait\n",
            "[06:42.420 --> 06:42.460]  oui\n",
            "[06:42.460 --> 06:43.980]  c'est pas dedans\n",
            "[06:43.980 --> 06:45.420]  c'est vendu séparément\n",
            "[06:45.420 --> 06:46.180]  ah c'est pas dedans\n",
            "[06:46.180 --> 06:46.220]  d'accord\n",
            "[06:46.220 --> 06:46.740]  et si vous voulez rajouter\n",
            "[06:46.740 --> 06:47.780]  soit on en a un Apple Store\n",
            "[06:47.780 --> 06:48.240]  ou alors vous avez\n",
            "[06:48.240 --> 06:48.740]  des partenaires\n",
            "[06:48.740 --> 06:49.940]  qui en vendent un\n",
            "[06:49.940 --> 06:50.580]  c'est acheté\n",
            "[06:50.580 --> 06:51.720]  oui d'accord\n",
            "[06:51.720 --> 06:51.960]  c'est pour ça\n",
            "[06:51.960 --> 06:52.460]  tout à fait\n",
            "[06:52.460 --> 06:53.360]  d'accord\n",
            "[06:54.200 --> 06:54.560]  absolument\n",
            "[06:58.820 --> 06:59.900]  bah en tout cas\n",
            "[06:59.900 --> 07:01.600]  je vais réfléchir\n",
            "[07:01.600 --> 07:01.940]  ouais\n",
            "[07:01.940 --> 07:02.900]  de toute façon\n",
            "[07:02.900 --> 07:03.620]  le 14 c'est\n",
            "[07:03.620 --> 07:04.480]  il y a le temps\n",
            "[07:04.480 --> 07:05.260]  c'est le jour de Paris\n",
            "[07:05.260 --> 07:05.720]  de Barcelone\n",
            "[07:06.420 --> 07:07.160]  vous voulez offrir\n",
            "[07:07.160 --> 07:07.580]  l'iPad\n",
            "[07:07.580 --> 07:08.160]  ça va être tranquille\n",
            "[07:08.160 --> 07:08.560]  devant le match\n",
            "[07:08.560 --> 07:09.780]  comme ça je pourrai\n",
            "[07:09.780 --> 07:10.200]  garder le match\n",
            "[07:10.200 --> 07:10.580]  exactement\n",
            "[07:11.420 --> 07:12.300]  mais donnez-le\n",
            "[07:12.300 --> 07:12.940]  juste avant le début\n",
            "[07:12.940 --> 07:13.180]  du match\n",
            "[07:13.180 --> 07:13.760]  parce que si vous l'avez\n",
            "[07:13.760 --> 07:14.420]  trop tôt avant\n",
            "[07:14.420 --> 07:15.160]  c'est mort\n",
            "[07:15.860 --> 07:16.260]  voilà\n",
            "[07:16.260 --> 07:17.600]  au moins la mi-temps\n",
            "[07:17.600 --> 07:17.880]  elle va dire\n",
            "[07:17.880 --> 07:18.460]  c'est trop bien\n",
            "[07:19.980 --> 07:20.540]  tiens chéri\n",
            "[07:21.180 --> 07:22.100]  voilà ça passe\n",
            "[07:22.100 --> 07:22.340]  rien\n",
            "[07:22.340 --> 07:22.720]  voilà\n",
            "[07:22.720 --> 07:23.480]  elle ne boit rien\n",
            "[07:23.480 --> 07:24.120]  parfait\n",
            "[07:24.120 --> 07:25.040]  merci pour les informations\n",
            "[07:25.040 --> 07:25.400]  vous en priez\n",
            "[07:25.400 --> 07:26.060]  bonne soirée messieurs\n",
            "[07:26.060 --> 07:26.320]  merci\n",
            "[07:26.320 --> 07:27.020]  à votre service\n",
            "[07:27.020 --> 07:32.580]  au revoir\n",
            "[07:40.580 --> 07:47.580]  merci à vous\n",
            "Transcription results written to '/content/large-v3b' directory\n"
          ]
        }
      ]
    },
    {
      "cell_type": "code",
      "source": [
        "!whisper \"/content/enregistrement-chez-Apple-Store.wav\" --model large-v3 -o whisper-large-v3"
      ],
      "metadata": {
        "colab": {
          "base_uri": "https://localhost:8080/"
        },
        "id": "d784sPut0PTv",
        "outputId": "95424b0f-1296-42f3-d461-e929d2524a2b"
      },
      "execution_count": 14,
      "outputs": [
        {
          "output_type": "stream",
          "name": "stdout",
          "text": [
            "Detecting language using up to the first 30 seconds. Use `--language` to specify the language\n",
            "Detected language: French\n",
            "[00:00.000 --> 00:02.000]  ...\n",
            "[00:02.000 --> 00:04.000]  ...\n",
            "[00:04.000 --> 00:06.000]  ...\n",
            "[00:06.000 --> 00:08.000]  ...\n",
            "[00:08.000 --> 00:10.000]  ...\n",
            "[00:10.000 --> 00:12.000]  ...\n",
            "[00:12.000 --> 00:14.000]  ...\n",
            "[00:14.000 --> 00:16.000]  ...\n",
            "[00:16.000 --> 00:18.000]  ...\n",
            "[00:18.000 --> 00:20.000]  ...\n",
            "[00:20.000 --> 00:22.000]  ...\n",
            "[00:22.000 --> 00:24.000]  ...\n",
            "[00:24.000 --> 00:26.000]  ...\n",
            "[00:26.000 --> 00:28.000]  ...\n",
            "[00:28.000 --> 00:30.000]  ...\n",
            "[00:30.000 --> 00:32.000]  ...\n",
            "[00:32.000 --> 00:34.000]  ...\n",
            "[00:34.000 --> 00:36.000]  ...\n",
            "[00:36.000 --> 00:38.000]  ...\n",
            "[00:38.000 --> 00:40.000]  ...\n",
            "[00:40.000 --> 00:42.000]  ...\n",
            "[00:42.000 --> 00:44.000]  ...\n",
            "[00:44.000 --> 00:46.000]  ...\n",
            "[00:46.000 --> 00:48.000]  ...\n",
            "[00:48.000 --> 00:50.000]  ...\n",
            "[00:50.000 --> 00:52.000]  ...\n",
            "[00:52.000 --> 00:54.000]  ...\n",
            "[00:54.000 --> 00:56.000]  ...\n",
            "[00:56.000 --> 00:57.000]  Merci.\n",
            "[01:26.000 --> 01:32.820]  Je ne sais pas.\n",
            "[01:56.000 --> 01:57.000]  Bonsoir.\n",
            "[01:57.000 --> 01:58.000]  Bonsoir.\n",
            "[01:58.000 --> 01:59.000]  Bienvenue.\n",
            "[01:59.000 --> 02:00.000]  Oui.\n",
            "[02:00.000 --> 02:16.240]  En fait, je dois prendre un cadeau pour ma copine, pour la fin de Valentin et je ne\n",
            "[02:16.240 --> 02:21.240]  sais pas quoi prendre en tête, soit un Iphone ou un Ipod ou un Ipad.\n",
            "[02:21.240 --> 02:24.760]  Elle a quoi comme télé ? Elle fait quoi dans la vie de votre copine ?\n",
            "[02:24.760 --> 02:25.760]  Votre copine pardon.\n",
            "[02:25.760 --> 02:26.760]  Elle travaille avec la mairie.\n",
            "[02:26.760 --> 02:27.760]  Ok.\n",
            "[02:27.760 --> 02:28.760]  Elle fait du sport ? Oui.\n",
            "[02:28.760 --> 02:31.760]  Elle a quoi comme téléphone actuellement ? Un Iphone 5.\n",
            "[02:31.760 --> 02:34.760]  Non, elle a un Iphone 6S.\n",
            "[02:34.760 --> 02:35.760]  C'est le 6S.\n",
            "[02:35.760 --> 02:36.760]  Je parle de Manon.\n",
            "[02:36.760 --> 02:37.760]  Oui.\n",
            "[02:37.760 --> 02:38.760]  Laquelle ? Manon ?\n",
            "[02:38.760 --> 02:39.760]  Je parle de Manon.\n",
            "[02:39.760 --> 02:40.760]  Tu parles de Manon.\n",
            "[02:40.760 --> 02:41.760]  Oui, d'accord.\n",
            "[02:41.760 --> 02:52.760]  Est-ce que c'est Ginette ? En fait, je pensais plus pour un PC, mais je ne sais pas si…\n",
            "[02:52.760 --> 02:54.760]  Est-ce qu'elle était super sage ? Oui.\n",
            "[02:54.760 --> 02:55.760]  Oui.\n",
            "[02:55.760 --> 02:56.760]  Toujours en fait.\n",
            "[02:56.760 --> 02:57.760]  Toujours sage.\n",
            "[02:57.760 --> 02:58.760]  Oui.\n",
            "[02:58.760 --> 03:02.760]  Après, si elle fait beaucoup de photos, beaucoup de vidéos, c'est sûr qu'un Iphone\n",
            "[03:02.760 --> 03:03.760]  7 ou…\n",
            "[03:03.760 --> 03:04.760]  Vu qu'elle a déjà un Iphone 6S.\n",
            "[03:04.760 --> 03:05.760]  Oui.\n",
            "[03:05.760 --> 03:06.760]  Elle fait déjà de très bonnes photos avec l'Iphone 6S.\n",
            "[03:06.760 --> 03:07.760]  Elle a déjà un Ipad ou pas ? Non.\n",
            "[03:07.760 --> 03:08.760]  C'est peut-être sympa l'Ipad mini pour se déplacer si elle fait beaucoup de…\n",
            "[03:08.760 --> 03:09.760]  On pourrait voir.\n",
            "[03:09.760 --> 03:10.760]  Oui, bien sûr.\n",
            "[03:10.760 --> 03:11.760]  On va voir ça.\n",
            "[03:11.760 --> 03:12.760]  C'est bon.\n",
            "[03:12.760 --> 03:13.760]  C'est bon.\n",
            "[03:13.760 --> 03:14.760]  C'est bon.\n",
            "[03:14.760 --> 03:15.760]  C'est bon.\n",
            "[03:15.760 --> 03:16.760]  C'est bon.\n",
            "[03:16.760 --> 03:17.760]  C'est bon.\n",
            "[03:17.760 --> 03:18.760]  C'est bon.\n",
            "[03:18.760 --> 03:19.760]  C'est bon.\n",
            "[03:19.760 --> 03:20.760]  C'est bon.\n",
            "[03:20.760 --> 03:21.760]  C'est bon.\n",
            "[03:21.760 --> 03:22.760]  C'est bon.\n",
            "[03:22.760 --> 03:24.440]  блиns ? C'est gårmicus alors.\n",
            "[03:24.440 --> 03:26.520]  Le Ipad mini c'est ceux là.\n",
            "[03:26.520 --> 03:33.700]  L'avantage elle sont petit, ah si elle transportait et si elle un bel Ipad mini, elle a deux différents.\n",
            "[03:33.700 --> 03:40.900]  Hop, il y a Ipad mini 4 et l'Ipad mini 2.\n",
            "[03:40.900 --> 03:44.540]  Et les différences entre les deux va venir par rapport à la qualité de l'appareil photo,\n",
            "[03:44.540 --> 03:49.940]  parce que là on passe de 5 à 8 mégapixels.\n",
            "[03:49.940 --> 03:50.940]  D'accord.\n",
            "[03:50.940 --> 03:52.560]  C'est comme un meilleur processeur.\n",
            "[03:52.560 --> 03:56.400]  un moteur plus rapide et plus performant donc si elle veut se faire plaisir à faire des belles\n",
            "[03:56.400 --> 04:04.080]  photos, regarder des films ou autre, c'est l'iPad mini 4. Oui tout à fait et en termes de tarifs\n",
            "[04:04.080 --> 04:14.220]  ils existent en 32 en 128 gigas, 539 ou 549 euros. Et là quand ça aura l'iPhone, l'iPad, elle pourra faire tout ce qu'elle veut, elle sera compliquée.\n",
            "[04:14.220 --> 04:21.120]  Et par rapport en fait, il y a le système d'iTunes en fait, elle peut avoir les mêmes données qu'à son\n",
            "[04:21.120 --> 04:26.280]  téléphone sur son iPad. Bien sûr, pour la restauration en fait. Oui tout à fait, en fait même grâce à iCloud,\n",
            "[04:26.280 --> 04:33.680]  iCloud permet de synchroniser tous vos produits Apple et Android. C'est iCloud ou iTunes ? Il y a les deux, iCloud c'est automatiquement\n",
            "[04:33.680 --> 04:47.820]  Wi-Fi et iTunes c'est vous qui le branchez sur votre ordinateur. D'accord, et à part le, il y a un grand iPad ou pas en fait ? Après il y a le grand iPad, il y a l'iPad Pro ou l'iPad Air 2 comme c'est de cette taille là, mais pour le transport c'est moins facile.\n",
            "[04:47.820 --> 04:51.080]  D'accord. Et c'est vrai que c'est la même qualité que l'iPad mini.\n",
            "[04:51.080 --> 05:20.080]  L'iPad mini 4, sauf que c'est sur une grande taille. C'est un peu grand celui-là. Comment ? C'est un peu grand celui-là. C'est un plus grand. Moi je préfère le mini. Vous voyez là, quand on compare les deux iPads, aussi bien l'iPad Pro que l'iPad Air 2, vous voyez, au niveau de l'appareil photo, hop là. On passe de 8, même à 12 mégapixels sur l'iPad Pro. C'est encore au-dessus. Par rapport au processeur, c'est le même. Ce sera encore plus puissant le processeur.\n",
            "[05:21.080 --> 05:26.080]  Ça c'est le dernier iPad de chez Apple et c'est plus rapide et plus performant. D'accord.\n",
            "[05:26.080 --> 05:41.080]  C'est vraiment un TSA, je ne sais pas ta vocale. Il n'y a pas beau prix en fait. Mais là en termes de tarif, on est sur du 689 euros en 32 gigas sur le Wi-Fi.\n",
            "[05:41.080 --> 05:45.080]  Est-ce qu'elle fait beaucoup de photos ou quoi ? Ouais, quand même. Donc tu peux être tranquille si tu veux d'avoir 128. 128 ou quoi ? Parce que 32 gigas, on va arrêter d'arriver à 128.\n",
            "[05:45.080 --> 05:46.080]  Ouais, quand même. Donc tu peux être tranquille si tu veux d'avoir 128. 128 ou quoi ? Parce que 32 gigas, on va arrêter d'arriver à 128.\n",
            "[05:46.080 --> 05:47.080]  Ouais, quand même. Donc tu peux être tranquille si tu veux d'avoir 128. 128 ou quoi ? Parce que 32 gigas, on va arrêter d'arriver à 128.\n",
            "[05:51.080 --> 05:58.080]  Ouais, quand même. Donc tu peux être tranquille si tu veux d'avoir 128. 128 ou quoi ? Parce que 32 gigas, on va arrêter d'arriver à 128.\n",
            "[05:58.080 --> 06:03.080]  Ce n'est pas 3G ?\n",
            "[06:03.080 --> 06:06.760]  On peut avoir la 3G, donc ce sera le modèle Wi-Fi plus cellulaire.\n",
            "[06:07.200 --> 06:08.620]  Là, il sera à 949 euros.\n",
            "[06:08.920 --> 06:10.280]  C'est un salaire en fait.\n",
            "[06:11.700 --> 06:12.140]  Presque.\n",
            "[06:12.340 --> 06:12.780]  Absolument.\n",
            "[06:13.780 --> 06:14.140]  D'accord.\n",
            "[06:17.080 --> 06:18.900]  Il y a l'iPad mini et l'iPad normal.\n",
            "[06:19.680 --> 06:20.680]  C'est celui-là le pro en fait ?\n",
            "[06:20.680 --> 06:20.840]  Oui.\n",
            "[06:21.300 --> 06:21.600]  D'accord.\n",
            "[06:23.060 --> 06:24.360]  Et le R2 ?\n",
            "[06:24.360 --> 06:27.180]  C'est l'iPad R2.\n",
            "[06:28.080 --> 06:29.100]  Ah d'accord.\n",
            "[06:29.240 --> 06:32.460]  Il n'y a pas de grosse différence.\n",
            "[06:32.680 --> 06:34.080]  C'est plutôt l'arrière qu'on verra la différence.\n",
            "[06:34.600 --> 06:37.260]  Mais même sur le mini, on a la possibilité de le faire.\n",
            "[06:37.760 --> 06:38.260]  Bien sûr.\n",
            "[06:39.340 --> 06:42.080]  S'il n'est pas en Apple Store, ça peut être vendu chez les partenaires.\n",
            "[06:42.080 --> 06:45.500]  C'est vendu séparément.\n",
            "[06:46.280 --> 06:47.860]  Et si vous le rajoutez, soit-il en Apple Store,\n",
            "[06:47.940 --> 06:49.860]  ou alors vous avez des partenaires qui en vendent.\n",
            "[06:50.920 --> 06:51.520]  C'est celui-là.\n",
            "[06:51.700 --> 06:52.520]  Tout à fait.\n",
            "[06:53.240 --> 06:53.540]  D'accord.\n",
            "[06:54.360 --> 06:54.760]  Absolument.\n",
            "[06:58.080 --> 07:01.640]  En tout cas, je vais réfléchir.\n",
            "[07:02.440 --> 07:04.040]  De toute façon, le 14, c'est...\n",
            "[07:04.040 --> 07:04.540]  Il y a tant.\n",
            "[07:04.760 --> 07:05.820]  C'est le jour de Paris-Barcelone.\n",
            "[07:06.760 --> 07:08.660]  Vous voulez offrir l'iPad, ça va être tranquille devant le match.\n",
            "[07:08.760 --> 07:10.300]  Comme ça, je pourrais le garder le match.\n",
            "[07:10.460 --> 07:10.820]  Exactement.\n",
            "[07:10.920 --> 07:11.200]  Très vite.\n",
            "[07:11.520 --> 07:13.280]  Mais donnez-le juste avant le début du match.\n",
            "[07:13.420 --> 07:15.280]  Parce que si vous l'avez trop tôt avant, c'est mort.\n",
            "[07:16.820 --> 07:17.880]  Au moins, la mi-temps, vous allez dire\n",
            "[07:17.880 --> 07:19.080]  « Ah, c'est trop bien ! »\n",
            "[07:19.080 --> 07:21.300]  Tiens, chéri !\n",
            "[07:21.300 --> 07:22.420]  Voilà, ça passe rien.\n",
            "[07:22.600 --> 07:23.560]  Voilà, elle ne boit rien.\n",
            "[07:24.060 --> 07:24.380]  Parfait.\n",
            "[07:24.460 --> 07:25.120]  Merci pour les informations.\n",
            "[07:25.220 --> 07:25.460]  Vous en priez.\n",
            "[07:25.540 --> 07:26.140]  Bonne soirée, messieurs.\n",
            "[07:26.600 --> 07:26.840]  Au revoir.\n",
            "[07:26.840 --> 07:27.000]  Au revoir.\n",
            "[07:27.000 --> 07:27.060]  Au revoir.\n",
            "[07:28.080 --> 07:29.080]  Au revoir.\n"
          ]
        }
      ]
    }
  ],
  "metadata": {
    "colab": {
      "provenance": [],
      "include_colab_link": true
    },
    "gpuClass": "standard",
    "kernelspec": {
      "display_name": "Python 3",
      "name": "python3"
    },
    "language_info": {
      "name": "python"
    },
    "accelerator": "GPU"
  },
  "nbformat": 4,
  "nbformat_minor": 0
}